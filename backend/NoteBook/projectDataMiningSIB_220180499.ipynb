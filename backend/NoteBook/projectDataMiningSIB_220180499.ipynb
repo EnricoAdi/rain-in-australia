{
  "cells": [
    {
      "cell_type": "markdown",
      "metadata": {
        "id": "5hbK-gij-V8u"
      },
      "source": [
        "Nama : Enrico Adi\n",
        "\n",
        "NRP : 220180499\n",
        "\n",
        "Algoritma yang dipakai : ID3\n",
        "\n",
        "Dataset : Rain in Australia Dataset (https://github.com/EnricoAdi/rain-in-australia) from (https://www.kaggle.com/datasets/jsphyg/weather-dataset-rattle-package)\n",
        "\n",
        "Target Class = RainTomorrow (Yes atau No)"
      ]
    },
    {
      "cell_type": "markdown",
      "metadata": {
        "id": "z5Idikr__vz8"
      },
      "source": [
        "Load Dataset dari Github"
      ]
    },
    {
      "cell_type": "code",
      "execution_count": 4,
      "metadata": {
        "colab": {
          "base_uri": "https://localhost:8080/"
        },
        "id": "fTJCvCLA-RbE",
        "outputId": "aa121a0e-ec30-4485-e273-58fe52460d0a"
      },
      "outputs": [
        {
          "name": "stderr",
          "output_type": "stream",
          "text": [
            "fatal: destination path 'rain-in-australia' already exists and is not an empty directory.\n"
          ]
        }
      ],
      "source": [
        "!git clone \"https://github.com/EnricoAdi/rain-in-australia.git\""
      ]
    },
    {
      "cell_type": "code",
      "execution_count": 5,
      "metadata": {
        "colab": {
          "base_uri": "https://localhost:8080/"
        },
        "id": "E-I2x0LQ_6uG",
        "outputId": "3a1a57e9-7dfe-4d67-cac4-f515db51b2c2"
      },
      "outputs": [
        {
          "name": "stdout",
          "output_type": "stream",
          "text": [
            "c:\\1.KULIAH\\SISTEM_INFORMASI_BISNIS_ENRICO\\SEMESTER_8\\other\\RainInAustralia\\backend\\NoteBook\\rain-in-australia\n"
          ]
        },
        {
          "name": "stderr",
          "output_type": "stream",
          "text": [
            "c:\\Users\\Enrico\\AppData\\Local\\Programs\\Python\\Python311\\Lib\\site-packages\\IPython\\core\\magics\\osm.py:417: UserWarning: using dhist requires you to install the `pickleshare` library.\n",
            "  self.shell.db['dhist'] = compress_dhist(dhist)[-100:]\n"
          ]
        }
      ],
      "source": [
        "%cd rain-in-australia"
      ]
    },
    {
      "cell_type": "code",
      "execution_count": 6,
      "metadata": {
        "colab": {
          "base_uri": "https://localhost:8080/"
        },
        "id": "_VAH03VqAIm3",
        "outputId": "e17c820b-0f0a-47d3-9ef3-d8f47605e415"
      },
      "outputs": [
        {
          "name": "stdout",
          "output_type": "stream",
          "text": [
            "Requirement already satisfied: decision-tree-id3 in c:\\users\\enrico\\appdata\\local\\programs\\python\\python311\\lib\\site-packages (0.1.2)\n",
            "Requirement already satisfied: nose>=1.1.2 in c:\\users\\enrico\\appdata\\local\\programs\\python\\python311\\lib\\site-packages (from decision-tree-id3) (1.3.7)\n",
            "Requirement already satisfied: scikit-learn>=0.17 in c:\\users\\enrico\\appdata\\local\\programs\\python\\python311\\lib\\site-packages (from decision-tree-id3) (1.2.1)\n",
            "Requirement already satisfied: numpy>=1.6.1 in c:\\users\\enrico\\appdata\\local\\programs\\python\\python311\\lib\\site-packages (from decision-tree-id3) (1.24.2)\n",
            "Requirement already satisfied: scipy>=1.3.2 in c:\\users\\enrico\\appdata\\local\\programs\\python\\python311\\lib\\site-packages (from scikit-learn>=0.17->decision-tree-id3) (1.10.1)\n",
            "Requirement already satisfied: joblib>=1.1.1 in c:\\users\\enrico\\appdata\\local\\programs\\python\\python311\\lib\\site-packages (from scikit-learn>=0.17->decision-tree-id3) (1.2.0)\n",
            "Requirement already satisfied: threadpoolctl>=2.0.0 in c:\\users\\enrico\\appdata\\local\\programs\\python\\python311\\lib\\site-packages (from scikit-learn>=0.17->decision-tree-id3) (3.1.0)\n",
            "Note: you may need to restart the kernel to use updated packages.\n"
          ]
        },
        {
          "name": "stderr",
          "output_type": "stream",
          "text": [
            "\n",
            "[notice] A new release of pip is available: 23.0.1 -> 24.0\n",
            "[notice] To update, run: python.exe -m pip install --upgrade pip\n"
          ]
        }
      ],
      "source": [
        "import pandas as pd\n",
        "import numpy as np\n",
        "import math\n",
        "from sklearn.preprocessing import MinMaxScaler\n",
        "from sklearn.metrics import classification_report\n",
        "%pip install decision-tree-id3"
      ]
    },
    {
      "cell_type": "code",
      "execution_count": 7,
      "metadata": {
        "colab": {
          "base_uri": "https://localhost:8080/"
        },
        "id": "7PqDiRCqvGq0",
        "outputId": "46fe36c0-aef4-4969-dc5c-c5dd83533d8b"
      },
      "outputs": [
        {
          "name": "stdout",
          "output_type": "stream",
          "text": [
            "<class 'pandas.core.frame.DataFrame'>\n",
            "RangeIndex: 145460 entries, 0 to 145459\n",
            "Data columns (total 23 columns):\n",
            " #   Column         Non-Null Count   Dtype  \n",
            "---  ------         --------------   -----  \n",
            " 0   Date           145460 non-null  object \n",
            " 1   Location       145460 non-null  object \n",
            " 2   MinTemp        143975 non-null  float64\n",
            " 3   MaxTemp        144199 non-null  float64\n",
            " 4   Rainfall       142199 non-null  float64\n",
            " 5   Evaporation    82670 non-null   float64\n",
            " 6   Sunshine       75625 non-null   float64\n",
            " 7   WindGustDir    135134 non-null  object \n",
            " 8   WindGustSpeed  135197 non-null  float64\n",
            " 9   WindDir9am     134894 non-null  object \n",
            " 10  WindDir3pm     141232 non-null  object \n",
            " 11  WindSpeed9am   143693 non-null  float64\n",
            " 12  WindSpeed3pm   142398 non-null  float64\n",
            " 13  Humidity9am    142806 non-null  float64\n",
            " 14  Humidity3pm    140953 non-null  float64\n",
            " 15  Pressure9am    130395 non-null  float64\n",
            " 16  Pressure3pm    130432 non-null  float64\n",
            " 17  Cloud9am       89572 non-null   float64\n",
            " 18  Cloud3pm       86102 non-null   float64\n",
            " 19  Temp9am        143693 non-null  float64\n",
            " 20  Temp3pm        141851 non-null  float64\n",
            " 21  RainToday      142199 non-null  object \n",
            " 22  RainTomorrow   142193 non-null  object \n",
            "dtypes: float64(16), object(7)\n",
            "memory usage: 25.5+ MB\n"
          ]
        }
      ],
      "source": [
        "dataset = pd.read_csv(\"rain-in-australia.csv\", delimiter=\",\")\n",
        "dataset.info()"
      ]
    },
    {
      "cell_type": "code",
      "execution_count": 8,
      "metadata": {
        "colab": {
          "base_uri": "https://localhost:8080/",
          "height": 342
        },
        "id": "RLlBOJW-wFFI",
        "outputId": "655c161b-ed31-4fce-8e2b-2da8fa125438"
      },
      "outputs": [
        {
          "data": {
            "text/html": [
              "<div>\n",
              "<style scoped>\n",
              "    .dataframe tbody tr th:only-of-type {\n",
              "        vertical-align: middle;\n",
              "    }\n",
              "\n",
              "    .dataframe tbody tr th {\n",
              "        vertical-align: top;\n",
              "    }\n",
              "\n",
              "    .dataframe thead th {\n",
              "        text-align: right;\n",
              "    }\n",
              "</style>\n",
              "<table border=\"1\" class=\"dataframe\">\n",
              "  <thead>\n",
              "    <tr style=\"text-align: right;\">\n",
              "      <th></th>\n",
              "      <th>Date</th>\n",
              "      <th>Location</th>\n",
              "      <th>MinTemp</th>\n",
              "      <th>MaxTemp</th>\n",
              "      <th>Rainfall</th>\n",
              "      <th>Evaporation</th>\n",
              "      <th>Sunshine</th>\n",
              "      <th>WindGustDir</th>\n",
              "      <th>WindGustSpeed</th>\n",
              "      <th>WindDir9am</th>\n",
              "      <th>...</th>\n",
              "      <th>Humidity9am</th>\n",
              "      <th>Humidity3pm</th>\n",
              "      <th>Pressure9am</th>\n",
              "      <th>Pressure3pm</th>\n",
              "      <th>Cloud9am</th>\n",
              "      <th>Cloud3pm</th>\n",
              "      <th>Temp9am</th>\n",
              "      <th>Temp3pm</th>\n",
              "      <th>RainToday</th>\n",
              "      <th>RainTomorrow</th>\n",
              "    </tr>\n",
              "  </thead>\n",
              "  <tbody>\n",
              "    <tr>\n",
              "      <th>0</th>\n",
              "      <td>2008-12-01</td>\n",
              "      <td>Albury</td>\n",
              "      <td>13.4</td>\n",
              "      <td>22.9</td>\n",
              "      <td>0.6</td>\n",
              "      <td>NaN</td>\n",
              "      <td>NaN</td>\n",
              "      <td>W</td>\n",
              "      <td>44.0</td>\n",
              "      <td>W</td>\n",
              "      <td>...</td>\n",
              "      <td>71.0</td>\n",
              "      <td>22.0</td>\n",
              "      <td>1007.7</td>\n",
              "      <td>1007.1</td>\n",
              "      <td>8.0</td>\n",
              "      <td>NaN</td>\n",
              "      <td>16.9</td>\n",
              "      <td>21.8</td>\n",
              "      <td>No</td>\n",
              "      <td>No</td>\n",
              "    </tr>\n",
              "    <tr>\n",
              "      <th>1</th>\n",
              "      <td>2008-12-02</td>\n",
              "      <td>Albury</td>\n",
              "      <td>7.4</td>\n",
              "      <td>25.1</td>\n",
              "      <td>0.0</td>\n",
              "      <td>NaN</td>\n",
              "      <td>NaN</td>\n",
              "      <td>WNW</td>\n",
              "      <td>44.0</td>\n",
              "      <td>NNW</td>\n",
              "      <td>...</td>\n",
              "      <td>44.0</td>\n",
              "      <td>25.0</td>\n",
              "      <td>1010.6</td>\n",
              "      <td>1007.8</td>\n",
              "      <td>NaN</td>\n",
              "      <td>NaN</td>\n",
              "      <td>17.2</td>\n",
              "      <td>24.3</td>\n",
              "      <td>No</td>\n",
              "      <td>No</td>\n",
              "    </tr>\n",
              "    <tr>\n",
              "      <th>2</th>\n",
              "      <td>2008-12-03</td>\n",
              "      <td>Albury</td>\n",
              "      <td>12.9</td>\n",
              "      <td>25.7</td>\n",
              "      <td>0.0</td>\n",
              "      <td>NaN</td>\n",
              "      <td>NaN</td>\n",
              "      <td>WSW</td>\n",
              "      <td>46.0</td>\n",
              "      <td>W</td>\n",
              "      <td>...</td>\n",
              "      <td>38.0</td>\n",
              "      <td>30.0</td>\n",
              "      <td>1007.6</td>\n",
              "      <td>1008.7</td>\n",
              "      <td>NaN</td>\n",
              "      <td>2.0</td>\n",
              "      <td>21.0</td>\n",
              "      <td>23.2</td>\n",
              "      <td>No</td>\n",
              "      <td>No</td>\n",
              "    </tr>\n",
              "    <tr>\n",
              "      <th>3</th>\n",
              "      <td>2008-12-04</td>\n",
              "      <td>Albury</td>\n",
              "      <td>9.2</td>\n",
              "      <td>28.0</td>\n",
              "      <td>0.0</td>\n",
              "      <td>NaN</td>\n",
              "      <td>NaN</td>\n",
              "      <td>NE</td>\n",
              "      <td>24.0</td>\n",
              "      <td>SE</td>\n",
              "      <td>...</td>\n",
              "      <td>45.0</td>\n",
              "      <td>16.0</td>\n",
              "      <td>1017.6</td>\n",
              "      <td>1012.8</td>\n",
              "      <td>NaN</td>\n",
              "      <td>NaN</td>\n",
              "      <td>18.1</td>\n",
              "      <td>26.5</td>\n",
              "      <td>No</td>\n",
              "      <td>No</td>\n",
              "    </tr>\n",
              "    <tr>\n",
              "      <th>4</th>\n",
              "      <td>2008-12-05</td>\n",
              "      <td>Albury</td>\n",
              "      <td>17.5</td>\n",
              "      <td>32.3</td>\n",
              "      <td>1.0</td>\n",
              "      <td>NaN</td>\n",
              "      <td>NaN</td>\n",
              "      <td>W</td>\n",
              "      <td>41.0</td>\n",
              "      <td>ENE</td>\n",
              "      <td>...</td>\n",
              "      <td>82.0</td>\n",
              "      <td>33.0</td>\n",
              "      <td>1010.8</td>\n",
              "      <td>1006.0</td>\n",
              "      <td>7.0</td>\n",
              "      <td>8.0</td>\n",
              "      <td>17.8</td>\n",
              "      <td>29.7</td>\n",
              "      <td>No</td>\n",
              "      <td>No</td>\n",
              "    </tr>\n",
              "  </tbody>\n",
              "</table>\n",
              "<p>5 rows × 23 columns</p>\n",
              "</div>"
            ],
            "text/plain": [
              "         Date Location  MinTemp  MaxTemp  Rainfall  Evaporation  Sunshine  \\\n",
              "0  2008-12-01   Albury     13.4     22.9       0.6          NaN       NaN   \n",
              "1  2008-12-02   Albury      7.4     25.1       0.0          NaN       NaN   \n",
              "2  2008-12-03   Albury     12.9     25.7       0.0          NaN       NaN   \n",
              "3  2008-12-04   Albury      9.2     28.0       0.0          NaN       NaN   \n",
              "4  2008-12-05   Albury     17.5     32.3       1.0          NaN       NaN   \n",
              "\n",
              "  WindGustDir  WindGustSpeed WindDir9am  ... Humidity9am  Humidity3pm  \\\n",
              "0           W           44.0          W  ...        71.0         22.0   \n",
              "1         WNW           44.0        NNW  ...        44.0         25.0   \n",
              "2         WSW           46.0          W  ...        38.0         30.0   \n",
              "3          NE           24.0         SE  ...        45.0         16.0   \n",
              "4           W           41.0        ENE  ...        82.0         33.0   \n",
              "\n",
              "   Pressure9am  Pressure3pm  Cloud9am  Cloud3pm  Temp9am  Temp3pm  RainToday  \\\n",
              "0       1007.7       1007.1       8.0       NaN     16.9     21.8         No   \n",
              "1       1010.6       1007.8       NaN       NaN     17.2     24.3         No   \n",
              "2       1007.6       1008.7       NaN       2.0     21.0     23.2         No   \n",
              "3       1017.6       1012.8       NaN       NaN     18.1     26.5         No   \n",
              "4       1010.8       1006.0       7.0       8.0     17.8     29.7         No   \n",
              "\n",
              "   RainTomorrow  \n",
              "0            No  \n",
              "1            No  \n",
              "2            No  \n",
              "3            No  \n",
              "4            No  \n",
              "\n",
              "[5 rows x 23 columns]"
            ]
          },
          "execution_count": 8,
          "metadata": {},
          "output_type": "execute_result"
        }
      ],
      "source": [
        "dataset.head()"
      ]
    },
    {
      "cell_type": "code",
      "execution_count": 9,
      "metadata": {
        "id": "vQV3rxHfweIf"
      },
      "outputs": [],
      "source": [
        "# Begin Preprocessing\n",
        "# Hapus kolom date\n",
        "dataset = dataset.drop('Date', axis=1, errors='ignore')\n",
        "# Drop Evaporation karena 42% data null\n",
        "dataset = dataset.drop('Evaporation', axis=1, errors='ignore')\n",
        "# Drop Sunshine karena 47% data null\n",
        "dataset = dataset.drop('Sunshine', axis=1, errors='ignore')\n",
        "dataset = dataset.drop('Location', axis=1, errors='ignore')"
      ]
    },
    {
      "cell_type": "code",
      "execution_count": 10,
      "metadata": {
        "colab": {
          "base_uri": "https://localhost:8080/"
        },
        "id": "2FK5xU3ezP9X",
        "outputId": "5a77c566-4b47-454c-ccb0-680d22537ada"
      },
      "outputs": [
        {
          "name": "stdout",
          "output_type": "stream",
          "text": [
            "['No' 'Yes' nan]\n",
            "['No' 'Yes']\n",
            "Deleted Row Count: 3267\n"
          ]
        }
      ],
      "source": [
        "# Delete semua row dengan value RainTomorrow = NA\n",
        "print(dataset.RainTomorrow.unique())\n",
        "\n",
        "df = dataset.dropna(axis=0,subset=['RainTomorrow'])\n",
        "print(df.RainTomorrow.unique())\n",
        "dropped = len(dataset)-len(df)\n",
        "print(f\"Deleted Row Count: {dropped}\")\n"
      ]
    },
    {
      "cell_type": "code",
      "execution_count": 11,
      "metadata": {
        "colab": {
          "base_uri": "https://localhost:8080/"
        },
        "id": "v1HvuN6KTENJ",
        "outputId": "b67151fd-16bd-49ad-8dd9-790b198f3b80"
      },
      "outputs": [
        {
          "name": "stdout",
          "output_type": "stream",
          "text": [
            "Data MinTemp yang masih null : 637\n",
            "Data MaxTemp yang masih null : 322\n",
            "Data Rainfall yang masih null : 1406\n",
            "Data WindGustDir yang masih null : 9330\n",
            "Data WindGustSpeed yang masih null : 9270\n",
            "Data WindDir9am yang masih null : 10013\n",
            "Data WindDir3pm yang masih null : 3778\n",
            "Data WindSpeed9am yang masih null : 1348\n",
            "Data WindSpeed3pm yang masih null : 2630\n",
            "Data Humidity9am yang masih null : 1774\n",
            "Data Humidity3pm yang masih null : 3610\n",
            "Data Pressure9am yang masih null : 14014\n",
            "Data Pressure3pm yang masih null : 13981\n",
            "Data Cloud9am yang masih null : 53657\n",
            "Data Cloud3pm yang masih null : 57094\n",
            "Data Temp9am yang masih null : 904\n",
            "Data Temp3pm yang masih null : 2726\n",
            "Data RainToday yang masih null : 1406\n",
            "Data RainTomorrow yang masih null : 0\n"
          ]
        }
      ],
      "source": [
        "for (columnName, columnData) in df.items():\n",
        "    print(f\"Data {columnName} yang masih null : {df[df[columnName].isna()].shape[0]}\")"
      ]
    },
    {
      "cell_type": "code",
      "execution_count": 12,
      "metadata": {
        "id": "4iPR8dvYTT7X"
      },
      "outputs": [],
      "source": [
        "#preprocess town name to number\n",
        "\n",
        "# print(df)\n",
        "# Location = df.Location.map({\"Albury\":0, \"BadgerysCreek\":1, \"Cobar\":2, \"CoffsHarbour\":3, \"Moree\":4,\n",
        "#       \"Newcastle\":5, \"NorahHead\":6, \"NorfolkIsland\":7, \"Penrith\":8, \"Richmond\":9, \"Sydney\":10,\n",
        "#       \"SydneyAirport\":11, \"WaggaWagga\":12, \"Williamtown\":13, \"Wollongong\":14, \"Canberra\":15, \"Tuggeranong\":16,\n",
        "#       \"MountGinini\":17, \"Ballarat\":18, \"Bendigo\":19, \"Sale\":20, \"MelbourneAirport\":21, \"Melbourne\":22,\n",
        "#       \"Mildura\":23, \"Nhil\":24, \"Portland\":25, \"Watsonia\":26, \"Dartmoor\":27, \"Brisbane\":28,\n",
        "#       \"Cairns\":29, \"GoldCoast\":30, \"Townsville\":31, \"Adelaide\":32, \"MountGambier\":33, \"Nuriootpa\":34,\n",
        "#       \"Woomera\":35, \"Albany\":36, \"Witchcliffe\":37, \"PearceRAAF\":38, \"PerthAirport\":39, \"Perth\":40,\n",
        "#       \"SalmonGums\":41, \"Walpole\":42, \"Hobart\":43, \"Launceston\":44, \"AliceSprings\":45, \"Darwin\":46,\n",
        "#       \"Katherine\":47, \"Uluru\":48})\n",
        "# df.Location = Location\n",
        "# print(df)"
      ]
    },
    {
      "cell_type": "code",
      "execution_count": 13,
      "metadata": {
        "colab": {
          "base_uri": "https://localhost:8080/"
        },
        "id": "_b3AVTtbmLkl",
        "outputId": "e31657ac-86c1-4ced-dd64-75a12d380e14"
      },
      "outputs": [
        {
          "name": "stdout",
          "output_type": "stream",
          "text": [
            "Filling WindGustDir null data with W\n",
            "Filling WindDir9am null data with N\n",
            "Filling WindDir3pm null data with SE\n",
            "Filling RainToday null data with No\n"
          ]
        },
        {
          "name": "stderr",
          "output_type": "stream",
          "text": [
            "C:\\Users\\Enrico\\AppData\\Local\\Temp\\ipykernel_7496\\3700554000.py:11: SettingWithCopyWarning: \n",
            "A value is trying to be set on a copy of a slice from a DataFrame.\n",
            "Try using .loc[row_indexer,col_indexer] = value instead\n",
            "\n",
            "See the caveats in the documentation: https://pandas.pydata.org/pandas-docs/stable/user_guide/indexing.html#returning-a-view-versus-a-copy\n",
            "  df[columnName] = temp\n",
            "C:\\Users\\Enrico\\AppData\\Local\\Temp\\ipykernel_7496\\3700554000.py:11: SettingWithCopyWarning: \n",
            "A value is trying to be set on a copy of a slice from a DataFrame.\n",
            "Try using .loc[row_indexer,col_indexer] = value instead\n",
            "\n",
            "See the caveats in the documentation: https://pandas.pydata.org/pandas-docs/stable/user_guide/indexing.html#returning-a-view-versus-a-copy\n",
            "  df[columnName] = temp\n",
            "C:\\Users\\Enrico\\AppData\\Local\\Temp\\ipykernel_7496\\3700554000.py:11: SettingWithCopyWarning: \n",
            "A value is trying to be set on a copy of a slice from a DataFrame.\n",
            "Try using .loc[row_indexer,col_indexer] = value instead\n",
            "\n",
            "See the caveats in the documentation: https://pandas.pydata.org/pandas-docs/stable/user_guide/indexing.html#returning-a-view-versus-a-copy\n",
            "  df[columnName] = temp\n",
            "C:\\Users\\Enrico\\AppData\\Local\\Temp\\ipykernel_7496\\3700554000.py:11: SettingWithCopyWarning: \n",
            "A value is trying to be set on a copy of a slice from a DataFrame.\n",
            "Try using .loc[row_indexer,col_indexer] = value instead\n",
            "\n",
            "See the caveats in the documentation: https://pandas.pydata.org/pandas-docs/stable/user_guide/indexing.html#returning-a-view-versus-a-copy\n",
            "  df[columnName] = temp\n",
            "C:\\Users\\Enrico\\AppData\\Local\\Temp\\ipykernel_7496\\3700554000.py:11: SettingWithCopyWarning: \n",
            "A value is trying to be set on a copy of a slice from a DataFrame.\n",
            "Try using .loc[row_indexer,col_indexer] = value instead\n",
            "\n",
            "See the caveats in the documentation: https://pandas.pydata.org/pandas-docs/stable/user_guide/indexing.html#returning-a-view-versus-a-copy\n",
            "  df[columnName] = temp\n"
          ]
        }
      ],
      "source": [
        "#Iterate each column, replace null value for float64 columns, replace with most frequent values for object columns\n",
        "for (columnName, columnData) in df.items():\n",
        "    temp = df[columnName]\n",
        "    if(columnName!=\"Location\"):\n",
        "      if(columnData.dtypes==\"float64\"):\n",
        "        temp = temp.fillna(temp.mean())\n",
        "      elif(columnData.dtypes==\"object\" and columnName!=\"RainTomorrow\"):\n",
        "        maxTemp = df[columnName].mode()[0]\n",
        "        print(f\"Filling {columnName} null data with {maxTemp}\")\n",
        "        temp = temp.fillna(maxTemp)\n",
        "      df[columnName] = temp\n",
        "    # print('Column Contents : ', columnData.values)"
      ]
    },
    {
      "cell_type": "code",
      "execution_count": 14,
      "metadata": {
        "colab": {
          "base_uri": "https://localhost:8080/"
        },
        "id": "b9VDJl71shHx",
        "outputId": "c22faf26-240f-448f-84f3-1e4188f13208"
      },
      "outputs": [
        {
          "name": "stderr",
          "output_type": "stream",
          "text": [
            "C:\\Users\\Enrico\\AppData\\Local\\Temp\\ipykernel_7496\\962021073.py:17: SettingWithCopyWarning: \n",
            "A value is trying to be set on a copy of a slice from a DataFrame.\n",
            "Try using .loc[row_indexer,col_indexer] = value instead\n",
            "\n",
            "See the caveats in the documentation: https://pandas.pydata.org/pandas-docs/stable/user_guide/indexing.html#returning-a-view-versus-a-copy\n",
            "  df.WindGustDir = WindGustDir\n"
          ]
        },
        {
          "name": "stdout",
          "output_type": "stream",
          "text": [
            "Data MinTemp yang masih null : 0\n",
            "Data MaxTemp yang masih null : 0\n",
            "Data Rainfall yang masih null : 0\n",
            "Data WindGustDir yang masih null : 0\n",
            "Data WindGustSpeed yang masih null : 0\n",
            "Data WindDir9am yang masih null : 0\n",
            "Data WindDir3pm yang masih null : 0\n",
            "Data WindSpeed9am yang masih null : 0\n",
            "Data WindSpeed3pm yang masih null : 0\n",
            "Data Humidity9am yang masih null : 0\n",
            "Data Humidity3pm yang masih null : 0\n",
            "Data Pressure9am yang masih null : 0\n",
            "Data Pressure3pm yang masih null : 0\n",
            "Data Cloud9am yang masih null : 0\n",
            "Data Cloud3pm yang masih null : 0\n",
            "Data Temp9am yang masih null : 0\n",
            "Data Temp3pm yang masih null : 0\n",
            "Data RainToday yang masih null : 0\n",
            "Data RainTomorrow yang masih null : 0\n"
          ]
        },
        {
          "name": "stderr",
          "output_type": "stream",
          "text": [
            "C:\\Users\\Enrico\\AppData\\Local\\Temp\\ipykernel_7496\\962021073.py:24: SettingWithCopyWarning: \n",
            "A value is trying to be set on a copy of a slice from a DataFrame.\n",
            "Try using .loc[row_indexer,col_indexer] = value instead\n",
            "\n",
            "See the caveats in the documentation: https://pandas.pydata.org/pandas-docs/stable/user_guide/indexing.html#returning-a-view-versus-a-copy\n",
            "  df.WindDir9am = WindDir9am\n",
            "C:\\Users\\Enrico\\AppData\\Local\\Temp\\ipykernel_7496\\962021073.py:30: SettingWithCopyWarning: \n",
            "A value is trying to be set on a copy of a slice from a DataFrame.\n",
            "Try using .loc[row_indexer,col_indexer] = value instead\n",
            "\n",
            "See the caveats in the documentation: https://pandas.pydata.org/pandas-docs/stable/user_guide/indexing.html#returning-a-view-versus-a-copy\n",
            "  df.WindDir3pm = WindDir3pm\n",
            "C:\\Users\\Enrico\\AppData\\Local\\Temp\\ipykernel_7496\\962021073.py:34: SettingWithCopyWarning: \n",
            "A value is trying to be set on a copy of a slice from a DataFrame.\n",
            "Try using .loc[row_indexer,col_indexer] = value instead\n",
            "\n",
            "See the caveats in the documentation: https://pandas.pydata.org/pandas-docs/stable/user_guide/indexing.html#returning-a-view-versus-a-copy\n",
            "  df.RainToday = RainToday\n"
          ]
        }
      ],
      "source": [
        "# # Note alternatif buat evaporation and sunshine\n",
        "# # Drop Evaporation karena 42% data null\n",
        "# df = df.drop('Evaporation', axis=1, errors='ignore')\n",
        "# # Drop Sunshine karena 47% data null\n",
        "# df = df.drop('Sunshine', axis=1, errors='ignore')\n",
        "# df = df.drop('Location', axis=1, errors='ignore')\n",
        "\n",
        "# Length of null\n",
        "# print(f\"Persentase data WindGustDir yang null : {df[df.WindGustDir.isna()].shape[0]*100/len(df)}%\")\n",
        "\n",
        "# print(df.WindDir9am.unique())\n",
        "\n",
        "WindGustDir = df.WindGustDir.map({\"W\":0, \"WNW\":1, \"WSW\":2, \"NE\":3, \"NNW\":4,\n",
        "      \"N\":5, \"NNE\":6, \"SW\":7, \"ENE\":8, \"SSE\":9, \"S\":10,\n",
        "      \"NW\":11, \"SE\":12, \"ESE\":13, \"E\":14,\n",
        "      \"SSW\":15})\n",
        "df.WindGustDir = WindGustDir\n",
        "\n",
        "\n",
        "WindDir9am = df.WindDir9am.map({\"W\":0, \"WNW\":1, \"WSW\":2, \"NE\":3, \"NNW\":4,\n",
        "      \"N\":5, \"NNE\":6, \"SW\":7, \"ENE\":8, \"SSE\":9, \"S\":10,\n",
        "      \"NW\":11, \"SE\":12, \"ESE\":13, \"E\":14,\n",
        "      \"SSW\":15})\n",
        "df.WindDir9am = WindDir9am\n",
        "\n",
        "WindDir3pm = df.WindDir3pm.map({\"W\":0, \"WNW\":1, \"WSW\":2, \"NE\":3, \"NNW\":4,\n",
        "      \"N\":5, \"NNE\":6, \"SW\":7, \"ENE\":8, \"SSE\":9, \"S\":10,\n",
        "      \"NW\":11, \"SE\":12, \"ESE\":13, \"E\":14,\n",
        "      \"SSW\":15})\n",
        "df.WindDir3pm = WindDir3pm\n",
        "\n",
        "\n",
        "RainToday = df.RainToday.map({\"Yes\":0, \"No\":1})\n",
        "df.RainToday = RainToday\n",
        "\n",
        "for (columnName, columnData) in df.items():\n",
        "    print(f\"Data {columnName} yang masih null : {df[df[columnName].isna()].shape[0]}\")"
      ]
    },
    {
      "cell_type": "code",
      "execution_count": 15,
      "metadata": {
        "colab": {
          "base_uri": "https://localhost:8080/",
          "height": 226
        },
        "id": "f3ZZJVFswp_R",
        "outputId": "58175bf7-1617-43ad-e33b-09c07557e074"
      },
      "outputs": [
        {
          "data": {
            "text/html": [
              "<div>\n",
              "<style scoped>\n",
              "    .dataframe tbody tr th:only-of-type {\n",
              "        vertical-align: middle;\n",
              "    }\n",
              "\n",
              "    .dataframe tbody tr th {\n",
              "        vertical-align: top;\n",
              "    }\n",
              "\n",
              "    .dataframe thead th {\n",
              "        text-align: right;\n",
              "    }\n",
              "</style>\n",
              "<table border=\"1\" class=\"dataframe\">\n",
              "  <thead>\n",
              "    <tr style=\"text-align: right;\">\n",
              "      <th></th>\n",
              "      <th>MinTemp</th>\n",
              "      <th>MaxTemp</th>\n",
              "      <th>Rainfall</th>\n",
              "      <th>WindGustDir</th>\n",
              "      <th>WindGustSpeed</th>\n",
              "      <th>WindDir9am</th>\n",
              "      <th>WindDir3pm</th>\n",
              "      <th>WindSpeed9am</th>\n",
              "      <th>WindSpeed3pm</th>\n",
              "      <th>Humidity9am</th>\n",
              "      <th>Humidity3pm</th>\n",
              "      <th>Pressure9am</th>\n",
              "      <th>Pressure3pm</th>\n",
              "      <th>Cloud9am</th>\n",
              "      <th>Cloud3pm</th>\n",
              "      <th>Temp9am</th>\n",
              "      <th>Temp3pm</th>\n",
              "      <th>RainToday</th>\n",
              "      <th>RainTomorrow</th>\n",
              "    </tr>\n",
              "  </thead>\n",
              "  <tbody>\n",
              "    <tr>\n",
              "      <th>0</th>\n",
              "      <td>13.4</td>\n",
              "      <td>22.9</td>\n",
              "      <td>0.6</td>\n",
              "      <td>0</td>\n",
              "      <td>44.0</td>\n",
              "      <td>0</td>\n",
              "      <td>1</td>\n",
              "      <td>20.0</td>\n",
              "      <td>24.0</td>\n",
              "      <td>71.0</td>\n",
              "      <td>22.0</td>\n",
              "      <td>1007.7</td>\n",
              "      <td>1007.1</td>\n",
              "      <td>8.000000</td>\n",
              "      <td>4.503167</td>\n",
              "      <td>16.9</td>\n",
              "      <td>21.8</td>\n",
              "      <td>1</td>\n",
              "      <td>No</td>\n",
              "    </tr>\n",
              "    <tr>\n",
              "      <th>1</th>\n",
              "      <td>7.4</td>\n",
              "      <td>25.1</td>\n",
              "      <td>0.0</td>\n",
              "      <td>1</td>\n",
              "      <td>44.0</td>\n",
              "      <td>4</td>\n",
              "      <td>2</td>\n",
              "      <td>4.0</td>\n",
              "      <td>22.0</td>\n",
              "      <td>44.0</td>\n",
              "      <td>25.0</td>\n",
              "      <td>1010.6</td>\n",
              "      <td>1007.8</td>\n",
              "      <td>4.437189</td>\n",
              "      <td>4.503167</td>\n",
              "      <td>17.2</td>\n",
              "      <td>24.3</td>\n",
              "      <td>1</td>\n",
              "      <td>No</td>\n",
              "    </tr>\n",
              "    <tr>\n",
              "      <th>2</th>\n",
              "      <td>12.9</td>\n",
              "      <td>25.7</td>\n",
              "      <td>0.0</td>\n",
              "      <td>2</td>\n",
              "      <td>46.0</td>\n",
              "      <td>0</td>\n",
              "      <td>2</td>\n",
              "      <td>19.0</td>\n",
              "      <td>26.0</td>\n",
              "      <td>38.0</td>\n",
              "      <td>30.0</td>\n",
              "      <td>1007.6</td>\n",
              "      <td>1008.7</td>\n",
              "      <td>4.437189</td>\n",
              "      <td>2.000000</td>\n",
              "      <td>21.0</td>\n",
              "      <td>23.2</td>\n",
              "      <td>1</td>\n",
              "      <td>No</td>\n",
              "    </tr>\n",
              "    <tr>\n",
              "      <th>3</th>\n",
              "      <td>9.2</td>\n",
              "      <td>28.0</td>\n",
              "      <td>0.0</td>\n",
              "      <td>3</td>\n",
              "      <td>24.0</td>\n",
              "      <td>12</td>\n",
              "      <td>14</td>\n",
              "      <td>11.0</td>\n",
              "      <td>9.0</td>\n",
              "      <td>45.0</td>\n",
              "      <td>16.0</td>\n",
              "      <td>1017.6</td>\n",
              "      <td>1012.8</td>\n",
              "      <td>4.437189</td>\n",
              "      <td>4.503167</td>\n",
              "      <td>18.1</td>\n",
              "      <td>26.5</td>\n",
              "      <td>1</td>\n",
              "      <td>No</td>\n",
              "    </tr>\n",
              "    <tr>\n",
              "      <th>4</th>\n",
              "      <td>17.5</td>\n",
              "      <td>32.3</td>\n",
              "      <td>1.0</td>\n",
              "      <td>0</td>\n",
              "      <td>41.0</td>\n",
              "      <td>8</td>\n",
              "      <td>11</td>\n",
              "      <td>7.0</td>\n",
              "      <td>20.0</td>\n",
              "      <td>82.0</td>\n",
              "      <td>33.0</td>\n",
              "      <td>1010.8</td>\n",
              "      <td>1006.0</td>\n",
              "      <td>7.000000</td>\n",
              "      <td>8.000000</td>\n",
              "      <td>17.8</td>\n",
              "      <td>29.7</td>\n",
              "      <td>1</td>\n",
              "      <td>No</td>\n",
              "    </tr>\n",
              "  </tbody>\n",
              "</table>\n",
              "</div>"
            ],
            "text/plain": [
              "   MinTemp  MaxTemp  Rainfall  WindGustDir  WindGustSpeed  WindDir9am  \\\n",
              "0     13.4     22.9       0.6            0           44.0           0   \n",
              "1      7.4     25.1       0.0            1           44.0           4   \n",
              "2     12.9     25.7       0.0            2           46.0           0   \n",
              "3      9.2     28.0       0.0            3           24.0          12   \n",
              "4     17.5     32.3       1.0            0           41.0           8   \n",
              "\n",
              "   WindDir3pm  WindSpeed9am  WindSpeed3pm  Humidity9am  Humidity3pm  \\\n",
              "0           1          20.0          24.0         71.0         22.0   \n",
              "1           2           4.0          22.0         44.0         25.0   \n",
              "2           2          19.0          26.0         38.0         30.0   \n",
              "3          14          11.0           9.0         45.0         16.0   \n",
              "4          11           7.0          20.0         82.0         33.0   \n",
              "\n",
              "   Pressure9am  Pressure3pm  Cloud9am  Cloud3pm  Temp9am  Temp3pm  RainToday  \\\n",
              "0       1007.7       1007.1  8.000000  4.503167     16.9     21.8          1   \n",
              "1       1010.6       1007.8  4.437189  4.503167     17.2     24.3          1   \n",
              "2       1007.6       1008.7  4.437189  2.000000     21.0     23.2          1   \n",
              "3       1017.6       1012.8  4.437189  4.503167     18.1     26.5          1   \n",
              "4       1010.8       1006.0  7.000000  8.000000     17.8     29.7          1   \n",
              "\n",
              "  RainTomorrow  \n",
              "0           No  \n",
              "1           No  \n",
              "2           No  \n",
              "3           No  \n",
              "4           No  "
            ]
          },
          "execution_count": 15,
          "metadata": {},
          "output_type": "execute_result"
        }
      ],
      "source": [
        "# RainTomorrow = df.RainTomorrow.map({\"Yes\":0, \"No\":1})\n",
        "# df.RainTomorrow = RainTomorrow\n",
        "\n",
        "X = df.drop('RainTomorrow', axis=1)\n",
        "y = df['RainTomorrow']\n",
        "# print(df)\n",
        "df.head()"
      ]
    },
    {
      "cell_type": "code",
      "execution_count": 16,
      "metadata": {
        "id": "uI8WAaMPkL8Z"
      },
      "outputs": [],
      "source": [
        "df.to_csv(\"rain_in_australia_preprocessed.csv\")"
      ]
    },
    {
      "cell_type": "code",
      "execution_count": 17,
      "metadata": {
        "id": "2rcv8scvQGrq"
      },
      "outputs": [],
      "source": [
        "import six\n",
        "import sys\n",
        "sys.modules['sklearn.externals.six'] = six\n",
        "from id3 import Id3Estimator\n",
        "from id3 import export_graphviz"
      ]
    },
    {
      "cell_type": "code",
      "execution_count": 18,
      "metadata": {
        "id": "gkvGTjngQdiX"
      },
      "outputs": [],
      "source": [
        "#train test split (75% train, 25% test)\n",
        "from sklearn.model_selection import train_test_split\n",
        "x_train, x_test, y_train, y_test = train_test_split(X, y, test_size = 0.25, random_state = 42)"
      ]
    },
    {
      "cell_type": "code",
      "execution_count": 19,
      "metadata": {
        "colab": {
          "base_uri": "https://localhost:8080/",
          "height": 74
        },
        "id": "jj4z1c02SPDn",
        "outputId": "028951bb-9f62-4afb-9eb7-7a87ed04f9d2"
      },
      "outputs": [
        {
          "data": {
            "text/html": [
              "<style>#sk-container-id-1 {color: black;background-color: white;}#sk-container-id-1 pre{padding: 0;}#sk-container-id-1 div.sk-toggleable {background-color: white;}#sk-container-id-1 label.sk-toggleable__label {cursor: pointer;display: block;width: 100%;margin-bottom: 0;padding: 0.3em;box-sizing: border-box;text-align: center;}#sk-container-id-1 label.sk-toggleable__label-arrow:before {content: \"▸\";float: left;margin-right: 0.25em;color: #696969;}#sk-container-id-1 label.sk-toggleable__label-arrow:hover:before {color: black;}#sk-container-id-1 div.sk-estimator:hover label.sk-toggleable__label-arrow:before {color: black;}#sk-container-id-1 div.sk-toggleable__content {max-height: 0;max-width: 0;overflow: hidden;text-align: left;background-color: #f0f8ff;}#sk-container-id-1 div.sk-toggleable__content pre {margin: 0.2em;color: black;border-radius: 0.25em;background-color: #f0f8ff;}#sk-container-id-1 input.sk-toggleable__control:checked~div.sk-toggleable__content {max-height: 200px;max-width: 100%;overflow: auto;}#sk-container-id-1 input.sk-toggleable__control:checked~label.sk-toggleable__label-arrow:before {content: \"▾\";}#sk-container-id-1 div.sk-estimator input.sk-toggleable__control:checked~label.sk-toggleable__label {background-color: #d4ebff;}#sk-container-id-1 div.sk-label input.sk-toggleable__control:checked~label.sk-toggleable__label {background-color: #d4ebff;}#sk-container-id-1 input.sk-hidden--visually {border: 0;clip: rect(1px 1px 1px 1px);clip: rect(1px, 1px, 1px, 1px);height: 1px;margin: -1px;overflow: hidden;padding: 0;position: absolute;width: 1px;}#sk-container-id-1 div.sk-estimator {font-family: monospace;background-color: #f0f8ff;border: 1px dotted black;border-radius: 0.25em;box-sizing: border-box;margin-bottom: 0.5em;}#sk-container-id-1 div.sk-estimator:hover {background-color: #d4ebff;}#sk-container-id-1 div.sk-parallel-item::after {content: \"\";width: 100%;border-bottom: 1px solid gray;flex-grow: 1;}#sk-container-id-1 div.sk-label:hover label.sk-toggleable__label {background-color: #d4ebff;}#sk-container-id-1 div.sk-serial::before {content: \"\";position: absolute;border-left: 1px solid gray;box-sizing: border-box;top: 0;bottom: 0;left: 50%;z-index: 0;}#sk-container-id-1 div.sk-serial {display: flex;flex-direction: column;align-items: center;background-color: white;padding-right: 0.2em;padding-left: 0.2em;position: relative;}#sk-container-id-1 div.sk-item {position: relative;z-index: 1;}#sk-container-id-1 div.sk-parallel {display: flex;align-items: stretch;justify-content: center;background-color: white;position: relative;}#sk-container-id-1 div.sk-item::before, #sk-container-id-1 div.sk-parallel-item::before {content: \"\";position: absolute;border-left: 1px solid gray;box-sizing: border-box;top: 0;bottom: 0;left: 50%;z-index: -1;}#sk-container-id-1 div.sk-parallel-item {display: flex;flex-direction: column;z-index: 1;position: relative;background-color: white;}#sk-container-id-1 div.sk-parallel-item:first-child::after {align-self: flex-end;width: 50%;}#sk-container-id-1 div.sk-parallel-item:last-child::after {align-self: flex-start;width: 50%;}#sk-container-id-1 div.sk-parallel-item:only-child::after {width: 0;}#sk-container-id-1 div.sk-dashed-wrapped {border: 1px dashed gray;margin: 0 0.4em 0.5em 0.4em;box-sizing: border-box;padding-bottom: 0.4em;background-color: white;}#sk-container-id-1 div.sk-label label {font-family: monospace;font-weight: bold;display: inline-block;line-height: 1.2em;}#sk-container-id-1 div.sk-label-container {text-align: center;}#sk-container-id-1 div.sk-container {/* jupyter's `normalize.less` sets `[hidden] { display: none; }` but bootstrap.min.css set `[hidden] { display: none !important; }` so we also need the `!important` here to be able to override the default hidden behavior on the sphinx rendered scikit-learn.org. See: https://github.com/scikit-learn/scikit-learn/issues/21755 */display: inline-block !important;position: relative;}#sk-container-id-1 div.sk-text-repr-fallback {display: none;}</style><div id=\"sk-container-id-1\" class=\"sk-top-container\"><div class=\"sk-text-repr-fallback\"><pre>Id3Estimator(gain_ratio=True, max_depth=5, min_samples_split=10)</pre><b>In a Jupyter environment, please rerun this cell to show the HTML representation or trust the notebook. <br />On GitHub, the HTML representation is unable to render, please try loading this page with nbviewer.org.</b></div><div class=\"sk-container\" hidden><div class=\"sk-item\"><div class=\"sk-estimator sk-toggleable\"><input class=\"sk-toggleable__control sk-hidden--visually\" id=\"sk-estimator-id-1\" type=\"checkbox\" checked><label for=\"sk-estimator-id-1\" class=\"sk-toggleable__label sk-toggleable__label-arrow\">Id3Estimator</label><div class=\"sk-toggleable__content\"><pre>Id3Estimator(gain_ratio=True, max_depth=5, min_samples_split=10)</pre></div></div></div></div></div>"
            ],
            "text/plain": [
              "Id3Estimator(gain_ratio=True, max_depth=5, min_samples_split=10)"
            ]
          },
          "execution_count": 19,
          "metadata": {},
          "output_type": "execute_result"
        }
      ],
      "source": [
        "# print(x_train)\n",
        "# estimator = Id3Estimator()\n",
        "# estimator = Id3Estimator(max_depth=5, prune=True) #82.7\n",
        "# estimator = Id3Estimator(max_depth=9, prune=True, gain_ratio=True, is_repeating=True, min_samples_split=10) #83.9\n",
        "estimator = Id3Estimator(max_depth=5, prune=False, gain_ratio=True,  min_samples_split=10)\n",
        "estimator.fit(x_train, y_train, check_input=True)"
      ]
    },
    {
      "cell_type": "code",
      "execution_count": 20,
      "metadata": {
        "colab": {
          "base_uri": "https://localhost:8080/"
        },
        "id": "3xsSow9Gf6f0",
        "outputId": "80dc8002-a6f0-45f0-a9e9-c9fb4da68a2e"
      },
      "outputs": [
        {
          "name": "stdout",
          "output_type": "stream",
          "text": [
            "Y PRED\n",
            "['Yes' 'No' 'No' ... 'No' 'No' 'Yes']\n",
            "Y TEST\n",
            "57760     Yes\n",
            "127128     No\n",
            "119994     No\n",
            "7088       No\n",
            "62992     Yes\n",
            "         ... \n",
            "125401     No\n",
            "68895     Yes\n",
            "142848     No\n",
            "61396      No\n",
            "60760     Yes\n",
            "Name: RainTomorrow, Length: 35549, dtype: object\n",
            "Accuracy: 0.827\n",
            "              precision    recall  f1-score   support\n",
            "\n",
            "          No       0.85      0.94      0.89     27623\n",
            "         Yes       0.68      0.43      0.52      7926\n",
            "\n",
            "    accuracy                           0.83     35549\n",
            "   macro avg       0.76      0.68      0.71     35549\n",
            "weighted avg       0.81      0.83      0.81     35549\n",
            "\n"
          ]
        }
      ],
      "source": [
        "from sklearn.metrics import accuracy_score\n",
        "y_pred = estimator.predict(x_test)\n",
        "# print(len(y_pred))\n",
        "# print(len(y_test))\n",
        "# for i in (0,len(y_pred)):\n",
        "#   print(i)\n",
        "# print('Y Test')\n",
        "# for i in y_test:\n",
        "#   print(i)\n",
        "print(\"Y PRED\")\n",
        "print(y_pred)\n",
        "print('Y TEST')\n",
        "print(y_test)\n",
        "acc_score = round(accuracy_score(y_pred, y_test), 3)\n",
        "print(f'Accuracy: {acc_score}')\n",
        "\n",
        "print(classification_report(y_test, y_pred))"
      ]
    },
    {
      "cell_type": "code",
      "execution_count": 21,
      "metadata": {
        "id": "0vn-ZWeNYmWb"
      },
      "outputs": [],
      "source": [
        "# Export tree with graphviz\n",
        "\n",
        "df_dummified = pd.get_dummies(df)\n",
        "columns = df_dummified.columns  #returns index object holding new column names\n",
        "\n",
        "exportName = 'tree'\n",
        "dot_data = export_graphviz(estimator.tree_, f'{exportName}.dot', columns.tolist())"
      ]
    },
    {
      "cell_type": "code",
      "execution_count": 22,
      "metadata": {
        "id": "a4wm59iciAC9"
      },
      "outputs": [],
      "source": [
        "# EXPORT MODEL WITH PICKLE\n",
        "import pickle\n",
        "\n",
        "# # save the iris classification model as a pickle file\n",
        "model_pkl_file = \"tree_id3_rain_in_australia.pkl\"\n",
        "\n",
        "with open(model_pkl_file, 'wb') as file:\n",
        "    pickle.dump(estimator, file)\n",
        "# import site\n",
        "# site.getsitepackages()\n",
        "# !pip list"
      ]
    },
    {
      "cell_type": "code",
      "execution_count": 23,
      "metadata": {
        "colab": {
          "base_uri": "https://localhost:8080/",
          "height": 36
        },
        "id": "ZwKNlnMoSPFW",
        "outputId": "d879fbdb-2bff-4e09-fd2f-17db8d7f6aac"
      },
      "outputs": [
        {
          "ename": "ModuleNotFoundError",
          "evalue": "No module named 'graphviz'",
          "output_type": "error",
          "traceback": [
            "\u001b[1;31m---------------------------------------------------------------------------\u001b[0m",
            "\u001b[1;31mModuleNotFoundError\u001b[0m                       Traceback (most recent call last)",
            "Cell \u001b[1;32mIn[23], line 1\u001b[0m\n\u001b[1;32m----> 1\u001b[0m \u001b[38;5;28;01mfrom\u001b[39;00m \u001b[38;5;21;01mgraphviz\u001b[39;00m \u001b[38;5;28;01mimport\u001b[39;00m Source\n\u001b[0;32m      2\u001b[0m path \u001b[38;5;241m=\u001b[39m \u001b[38;5;124mf\u001b[39m\u001b[38;5;124m'\u001b[39m\u001b[38;5;132;01m{\u001b[39;00mexportName\u001b[38;5;132;01m}\u001b[39;00m\u001b[38;5;124m.dot\u001b[39m\u001b[38;5;124m'\u001b[39m\n\u001b[0;32m      3\u001b[0m s \u001b[38;5;241m=\u001b[39m Source\u001b[38;5;241m.\u001b[39mfrom_file(path)\n",
            "\u001b[1;31mModuleNotFoundError\u001b[0m: No module named 'graphviz'"
          ]
        }
      ],
      "source": [
        "from graphviz import Source\n",
        "path = f'{exportName}.dot'\n",
        "s = Source.from_file(path)\n",
        "s.format = \"png\"\n",
        "s.render(f\"{exportName}\")"
      ]
    },
    {
      "cell_type": "code",
      "execution_count": null,
      "metadata": {
        "colab": {
          "base_uri": "https://localhost:8080/",
          "height": 263
        },
        "id": "4OOy7A0w4uBm",
        "outputId": "607d2938-06d1-4671-ce5c-925f0f999f15"
      },
      "outputs": [
        {
          "data": {
            "image/png": "[encoded data removed]",
            "text/plain": [
              "<IPython.core.display.Image object>"
            ]
          },
          "execution_count": 59,
          "metadata": {},
          "output_type": "execute_result"
        }
      ],
      "source": [
        "# display exported picture\n",
        "from IPython.display import Image\n",
        "Image(f'{exportName}.png')"
      ]
    },
    {
      "cell_type": "code",
      "execution_count": null,
      "metadata": {
        "colab": {
          "base_uri": "https://localhost:8080/"
        },
        "id": "P14Cry13eyGH",
        "outputId": "5b7f88a5-4079-4f01-df9a-f7c892ede59b"
      },
      "outputs": [
        {
          "name": "stdout",
          "output_type": "stream",
          "text": [
            "   MinTemp  MaxTemp  Rainfall  WindGustDir  WindGustSpeed  WindDir9am  \\\n",
            "0     13.2     18.3       0.0           14           48.0          13   \n",
            "\n",
            "   WindDir3pm  WindSpeed9am  WindSpeed3pm  Humidity9am  Humidity3pm  \\\n",
            "0          13          24.0          20.0         73.0         73.0   \n",
            "\n",
            "   Pressure9am  Pressure3pm  Cloud9am  Cloud3pm  Temp9am  Temp3pm  RainToday  \n",
            "0       1027.6       1023.8  4.437189  4.503167     14.2     17.0          1  \n",
            "['No']\n"
          ]
        }
      ],
      "source": [
        "# xtempcobaPredict = x_test.iloc[1:2]\n",
        "# # ytempcobaPredict = estimator.predict(xtempcobaPredict)\n",
        "# print(xtempcobaPredict)\n",
        "# print(y_test[1:2])\n",
        "\n",
        "cbPredictHeader = [\"MinTemp\", \"MaxTemp\", \"Rainfall\", \"WindGustDir\", \"WindGustSpeed\", \"WindDir9am\",\"WindDir3pm\",\"WindSpeed9am\",\"WindSpeed3pm\",\"Humidity9am\",\"Humidity3pm\",\"Pressure9am\",\n",
        "           \"Pressure3pm\", \"Cloud9am\", \"Cloud3pm\", \"Temp9am\", \"Temp3pm\", \"RainToday\"]\n",
        "\n",
        "inputData = [7.1, 13.0, 8.8, 5, 41.0, 5, 1, 24.0, 22.0, 100.0, 98.0, 1001.7, 1005.4, 8.0, 8.0, 8.6, 11.5, 0] #harusnya hasilnya yes\n",
        "# inputData = [13.2, 18.3, 0.0, 14, 48.0, 13, 13, 24.0, 20.0, 73.0, 73.0, 1027.6, 1023.8, 4.437189, 4.503167, 14.2, 17.0, 1] #harusnya hasilnya no\n",
        "\n",
        "cbPredictData = [inputData]\n",
        "\n",
        "xCobaPredict = pd.DataFrame(data = cbPredictData, columns = cbPredictHeader)\n",
        "yCobaPredict = estimator.predict(xCobaPredict)\n",
        "print(xCobaPredict)\n",
        "print(yCobaPredict)\n"
      ]
    },
    {
      "cell_type": "code",
      "execution_count": null,
      "metadata": {
        "id": "_3orVQ7NnSrR"
      },
      "outputs": [],
      "source": []
    }
  ],
  "metadata": {
    "colab": {
      "provenance": []
    },
    "kernelspec": {
      "display_name": "Python 3",
      "name": "python3"
    },
    "language_info": {
      "codemirror_mode": {
        "name": "ipython",
        "version": 3
      },
      "file_extension": ".py",
      "mimetype": "text/x-python",
      "name": "python",
      "nbconvert_exporter": "python",
      "pygments_lexer": "ipython3",
      "version": "3.11.0"
    }
  },
  "nbformat": 4,
  "nbformat_minor": 0
}
